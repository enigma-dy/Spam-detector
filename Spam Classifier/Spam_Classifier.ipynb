{
 "cells": [
  {
   "cell_type": "markdown",
   "source": [
    "# INTRODUCTION"
   ],
   "metadata": {
    "collapsed": false
   },
   "id": "edf74aaec271e00b"
  },
  {
   "cell_type": "markdown",
   "source": [
    "**PROBLEM STATEMENT: Spam Detection Using machine Learing Model**\n",
    "\n",
    "<font size=\"3\">Develop a machine learning model to accuratly classify incoming emails as either legithmate (ham) or spam </font>"
   ],
   "metadata": {
    "collapsed": false
   },
   "id": "65d5b87c7ce8cb35"
  },
  {
   "cell_type": "code",
   "execution_count": 23,
   "id": "initial_id",
   "metadata": {
    "collapsed": true,
    "ExecuteTime": {
     "end_time": "2023-12-18T03:54:20.147280300Z",
     "start_time": "2023-12-18T03:54:20.117297600Z"
    }
   },
   "outputs": [],
   "source": [
    "import numpy as np\n",
    "import pandas as pd\n",
    "import matplotlib.pyplot as plt"
   ]
  },
  {
   "cell_type": "markdown",
   "source": [
    "**Loading Dataset**"
   ],
   "metadata": {
    "collapsed": false
   },
   "id": "3e0b3b4bb35d4b2f"
  },
  {
   "cell_type": "code",
   "execution_count": 2,
   "outputs": [],
   "source": [
    "data = pd.read_csv(r\"C:\\Users\\solomon\\Downloads\\dataset\\spam.csv\", encoding=\"latin-1\")"
   ],
   "metadata": {
    "collapsed": false,
    "ExecuteTime": {
     "end_time": "2023-12-18T03:46:20.566408900Z",
     "start_time": "2023-12-18T03:46:20.204420900Z"
    }
   },
   "id": "fde6cc255d098f5a"
  },
  {
   "cell_type": "markdown",
   "source": [
    "**Cleaning Data**"
   ],
   "metadata": {
    "collapsed": false
   },
   "id": "f604b468fe12b582"
  },
  {
   "cell_type": "code",
   "execution_count": 3,
   "outputs": [],
   "source": [
    "data.drop([data.columns[col] for col in [2,3,4]],axis = 1,inplace = True)"
   ],
   "metadata": {
    "collapsed": false,
    "ExecuteTime": {
     "end_time": "2023-12-18T03:46:20.566408900Z",
     "start_time": "2023-12-18T03:46:20.554433400Z"
    }
   },
   "id": "861f54820f4dd654"
  },
  {
   "cell_type": "code",
   "execution_count": 4,
   "outputs": [
    {
     "data": {
      "text/plain": "     v1                                                 v2\n0   ham  Go until jurong point, crazy.. Available only ...\n1   ham                      Ok lar... Joking wif u oni...\n2  spam  Free entry in 2 a wkly comp to win FA Cup fina...\n3   ham  U dun say so early hor... U c already then say...\n4   ham  Nah I don't think he goes to usf, he lives aro...",
      "text/html": "<div>\n<style scoped>\n    .dataframe tbody tr th:only-of-type {\n        vertical-align: middle;\n    }\n\n    .dataframe tbody tr th {\n        vertical-align: top;\n    }\n\n    .dataframe thead th {\n        text-align: right;\n    }\n</style>\n<table border=\"1\" class=\"dataframe\">\n  <thead>\n    <tr style=\"text-align: right;\">\n      <th></th>\n      <th>v1</th>\n      <th>v2</th>\n    </tr>\n  </thead>\n  <tbody>\n    <tr>\n      <th>0</th>\n      <td>ham</td>\n      <td>Go until jurong point, crazy.. Available only ...</td>\n    </tr>\n    <tr>\n      <th>1</th>\n      <td>ham</td>\n      <td>Ok lar... Joking wif u oni...</td>\n    </tr>\n    <tr>\n      <th>2</th>\n      <td>spam</td>\n      <td>Free entry in 2 a wkly comp to win FA Cup fina...</td>\n    </tr>\n    <tr>\n      <th>3</th>\n      <td>ham</td>\n      <td>U dun say so early hor... U c already then say...</td>\n    </tr>\n    <tr>\n      <th>4</th>\n      <td>ham</td>\n      <td>Nah I don't think he goes to usf, he lives aro...</td>\n    </tr>\n  </tbody>\n</table>\n</div>"
     },
     "execution_count": 4,
     "metadata": {},
     "output_type": "execute_result"
    }
   ],
   "source": [
    "data.head()"
   ],
   "metadata": {
    "collapsed": false,
    "ExecuteTime": {
     "end_time": "2023-12-18T03:46:20.769668700Z",
     "start_time": "2023-12-18T03:46:20.566408900Z"
    }
   },
   "id": "85e22a57546232a6"
  },
  {
   "cell_type": "code",
   "execution_count": 5,
   "outputs": [],
   "source": [
    "from sklearn.preprocessing import LabelEncoder\n",
    "encode = LabelEncoder()\n",
    "data[\"v1\"] = encode.fit_transform(data[\"v1\"])"
   ],
   "metadata": {
    "collapsed": false,
    "ExecuteTime": {
     "end_time": "2023-12-18T03:46:21.420686700Z",
     "start_time": "2023-12-18T03:46:20.764638500Z"
    }
   },
   "id": "12a8a894217891c2"
  },
  {
   "cell_type": "code",
   "execution_count": 6,
   "outputs": [
    {
     "data": {
      "text/plain": "   v1                                                 v2\n0   0  Go until jurong point, crazy.. Available only ...\n1   0                      Ok lar... Joking wif u oni...\n2   1  Free entry in 2 a wkly comp to win FA Cup fina...\n3   0  U dun say so early hor... U c already then say...\n4   0  Nah I don't think he goes to usf, he lives aro...",
      "text/html": "<div>\n<style scoped>\n    .dataframe tbody tr th:only-of-type {\n        vertical-align: middle;\n    }\n\n    .dataframe tbody tr th {\n        vertical-align: top;\n    }\n\n    .dataframe thead th {\n        text-align: right;\n    }\n</style>\n<table border=\"1\" class=\"dataframe\">\n  <thead>\n    <tr style=\"text-align: right;\">\n      <th></th>\n      <th>v1</th>\n      <th>v2</th>\n    </tr>\n  </thead>\n  <tbody>\n    <tr>\n      <th>0</th>\n      <td>0</td>\n      <td>Go until jurong point, crazy.. Available only ...</td>\n    </tr>\n    <tr>\n      <th>1</th>\n      <td>0</td>\n      <td>Ok lar... Joking wif u oni...</td>\n    </tr>\n    <tr>\n      <th>2</th>\n      <td>1</td>\n      <td>Free entry in 2 a wkly comp to win FA Cup fina...</td>\n    </tr>\n    <tr>\n      <th>3</th>\n      <td>0</td>\n      <td>U dun say so early hor... U c already then say...</td>\n    </tr>\n    <tr>\n      <th>4</th>\n      <td>0</td>\n      <td>Nah I don't think he goes to usf, he lives aro...</td>\n    </tr>\n  </tbody>\n</table>\n</div>"
     },
     "execution_count": 6,
     "metadata": {},
     "output_type": "execute_result"
    }
   ],
   "source": [
    "data.head()"
   ],
   "metadata": {
    "collapsed": false,
    "ExecuteTime": {
     "end_time": "2023-12-18T03:46:21.441023800Z",
     "start_time": "2023-12-18T03:46:21.425692100Z"
    }
   },
   "id": "1ca53c18ba78deb0"
  },
  {
   "cell_type": "code",
   "execution_count": 7,
   "outputs": [
    {
     "data": {
      "text/plain": "5572"
     },
     "execution_count": 7,
     "metadata": {},
     "output_type": "execute_result"
    }
   ],
   "source": [
    "len(data)"
   ],
   "metadata": {
    "collapsed": false,
    "ExecuteTime": {
     "end_time": "2023-12-18T03:46:21.681504Z",
     "start_time": "2023-12-18T03:46:21.436021700Z"
    }
   },
   "id": "db72fd251836d3a0"
  },
  {
   "cell_type": "markdown",
   "source": [
    "**Encoding the target column**"
   ],
   "metadata": {
    "collapsed": false
   },
   "id": "47eca184f24d86e7"
  },
  {
   "cell_type": "code",
   "execution_count": null,
   "outputs": [],
   "source": [
    "class_mapping = {index: label for index,label in enumerate(encode.classes_)}"
   ],
   "metadata": {
    "collapsed": false
   },
   "id": "57641f1c619a380e"
  },
  {
   "cell_type": "code",
   "execution_count": 9,
   "outputs": [
    {
     "data": {
      "text/plain": "{0: 'ham', 1: 'spam'}"
     },
     "execution_count": 9,
     "metadata": {},
     "output_type": "execute_result"
    }
   ],
   "source": [
    "class_mapping"
   ],
   "metadata": {
    "collapsed": false,
    "ExecuteTime": {
     "end_time": "2023-12-18T03:46:21.831032400Z",
     "start_time": "2023-12-18T03:46:21.750025Z"
    }
   },
   "id": "4d69622af2097f38"
  },
  {
   "cell_type": "markdown",
   "source": [
    "**Preprocessing**"
   ],
   "metadata": {
    "collapsed": false
   },
   "id": "166299f5a0bf1884"
  },
  {
   "cell_type": "code",
   "execution_count": 10,
   "outputs": [],
   "source": [
    "from nltk.tokenize import word_tokenize\n",
    "from nltk.stem import PorterStemmer\n",
    "import re\n",
    "import nltk\n",
    "from nltk.stem import PorterStemmer\n",
    "from nltk.corpus import stopwords"
   ],
   "metadata": {
    "collapsed": false,
    "ExecuteTime": {
     "end_time": "2023-12-18T03:46:33.726263900Z",
     "start_time": "2023-12-18T03:46:21.826001300Z"
    }
   },
   "id": "e381e7c9e4e32850"
  },
  {
   "cell_type": "code",
   "execution_count": 11,
   "outputs": [],
   "source": [
    "#Take a mail string and convert it to a list of stemed word\n",
    "corpus = []\n",
    "ps = PorterStemmer()\n",
    "for i in range (0,len(data)):\n",
    "    contents = re.sub(r'[^a-zA-Z0-9]', ' ',data[\"v2\"][i])\n",
    "    contents = contents.lower()\n",
    "    contents = re.sub(r\"@[^\\s]+\",\" \", contents)\n",
    "    contents = re.sub(r\"[0-9]+\", \"number\", contents)\n",
    "    contents = re.sub(r\"(http|https)://[^\\s]+\", \"httpaddr\", contents)\n",
    "    contents = re.sub(r\"[$]+\", \"dollar\", contents)\n",
    "    contents = re.sub(r\"[^\\s]+@[^\\s]+\",\"emailaddr\", contents)\n",
    "    contents = re.sub(r\"#\\S+\", \" \",contents)\n",
    "    contents = contents.split()\n",
    "    contents = [ps.stem(word) for word in contents if not word in set(stopwords.words(\"english\"))]\n",
    "    contents = \" \".join(contents)\n",
    "    corpus.append(contents)\n",
    "    "
   ],
   "metadata": {
    "collapsed": false,
    "ExecuteTime": {
     "end_time": "2023-12-18T03:47:08.752377700Z",
     "start_time": "2023-12-18T03:46:33.731264900Z"
    }
   },
   "id": "748d5ac2edcedd09"
  },
  {
   "cell_type": "code",
   "execution_count": 12,
   "outputs": [
    {
     "data": {
      "text/plain": "['go jurong point crazi avail bugi n great world la e buffet cine got amor wat',\n 'ok lar joke wif u oni',\n 'free entri number wkli comp win fa cup final tkt numberst may number text fa number receiv entri question std txt rate c appli numberovernumb',\n 'u dun say earli hor u c alreadi say',\n 'nah think goe usf live around though',\n 'freemsg hey darl number week word back like fun still tb ok xxx std chg send number number rcv',\n 'even brother like speak treat like aid patent',\n 'per request mell mell oru minnaminungint nurungu vettam set callertun caller press number copi friend callertun',\n 'winner valu network custom select receivea number prize reward claim call number claim code klnumber valid number hour',\n 'mobil number month u r entitl updat latest colour mobil camera free call mobil updat co free number',\n 'gonna home soon want talk stuff anymor tonight k cri enough today',\n 'six chanc win cash number number number pound txt cshnumber send number cost numberp day numberday number tsandc appli repli hl number info',\n 'urgent number week free membership number number prize jackpot txt word claim number c www dbuk net lccltd pobox numberldnwnumberanumberrwnumb',\n 'search right word thank breather promis wont take help grant fulfil promis wonder bless time',\n 'date sunday',\n 'xxxmobilemovieclub use credit click wap link next txt messag click http wap xxxmobilemovieclub com n qjkgighjjgcbl',\n 'oh k watch',\n 'eh u rememb number spell name ye v naughti make v wet',\n 'fine way u feel way gota b',\n 'england v macedonia dont miss goal team news txt ur nation team number eg england number tri wale scotland numbertxt number number poboxoxnumberwnumberwq number',\n 'serious spell name',\n 'go tri number month ha ha joke',\n 'pay first lar da stock comin',\n 'aft finish lunch go str lor ard number smth lor u finish ur lunch alreadi',\n 'ffffffffff alright way meet sooner',\n 'forc eat slice realli hungri tho suck mark get worri know sick turn pizza lol',\n 'lol alway convinc',\n 'catch bu fri egg make tea eat mom left dinner feel love',\n 'back amp pack car let know room',\n 'ahhh work vagu rememb feel like lol',\n 'wait still clear sure sarcast x want live us',\n 'yeah got number v apologet n fallen actin like spoilt child got caught till number go badli cheer',\n 'k tell anyth',\n 'fear faint housework quick cuppa',\n 'thank subscript rington uk mobil charg number month pleas confirm repli ye repli charg',\n 'yup ok go home look time msg xuhui go learn numbernd may lesson numberam',\n 'oop let know roommat done',\n 'see letter b car',\n 'anyth lor u decid',\n 'hello saturday go text see decid anyth tomo tri invit anyth',\n 'pl go ahead watt want sure great weekend abiola',\n 'forget tell want need crave love sweet arabian steed mmmmmm yummi',\n 'number rodger burn msg tri call repli sm free nokia mobil free camcord pleas call number deliveri tomorrow',\n 'see',\n 'great hope like man well endow lt gt inch',\n 'call messag miss call',\n 'get hep b immunis nigeria',\n 'fair enough anyth go',\n 'yeah hope tyler could mayb ask around bit',\n 'u know stubborn even want go hospit kept tell mark weak sucker hospit weak sucker',\n 'think first time saw class',\n 'gram usual run like lt gt half eighth smarter though get almost whole second gram lt gt',\n 'k fyi x ride earli tomorrow morn crash place tonight',\n 'wow never realiz embarass accomod thought like sinc best could alway seem happi cave sorri give sorri offer sorri room embarass',\n 'sm ac sptv new jersey devil detroit red wing play ice hockey correct incorrect end repli end sptv',\n 'know mallika sherawat yesterday find lt url gt',\n 'congrat number year special cinema pass number call number c suprman v matrixnumb starwarsnumb etc number free bxnumber ipnumb numberw numberpm dont miss',\n 'sorri call later meet',\n 'tell reach',\n 'ye gauti sehwag odi seri',\n 'gonna pick number burger way home even move pain kill',\n 'ha ha ha good joke girl situat seeker',\n 'part check iq',\n 'sorri roommat took forev ok come',\n 'ok lar doubl check wif da hair dresser alreadi said wun cut v short said cut look nice',\n 'valu custom pleas advis follow recent review mob award number bonu prize call number',\n 'today song dedic day song u dedic send ur valuabl frnd first rpli',\n 'urgent ur award complimentari trip eurodisinc trav aco entrynumb number claim txt di number number number number number morefrmmob shracomorsglsuplt number lsnumber numberaj',\n 'hear new divorc barbi come ken stuff',\n 'plane give month end',\n 'wah lucki man save money hee',\n 'finish class',\n 'hi babe im home wanna someth xx',\n 'k k perform',\n 'u call',\n 'wait machan call free',\n 'that cool gentleman treat digniti respect',\n 'like peopl much shi pa',\n 'oper lt gt',\n 'still look job much ta earn',\n 'sorri call later',\n 'k call ah',\n 'ok way home hi hi',\n 'place man',\n 'yup next stop',\n 'call later network urgnt sm',\n 'real u get yo need number ticket one jacket done alreadi use multi',\n 'ye start send request make pain came back back bed doubl coin factori gotta cash nitro',\n 'realli still tonight babe',\n 'ela kano il download come wen ur free',\n 'yeah stand close tho catch someth',\n 'sorri pain ok meet anoth night spent late afternoon casualti mean done stuffnumbermoro includ time sheet sorri',\n 'smile pleasur smile pain smile troubl pour like rain smile sumnumb hurt u smile becoz someon still love see u smile',\n 'pleas call custom servic repres number number number numberam numberpm guarante number cash number prize',\n 'havent plan buy later check alreadi lido got number show e afternoon u finish work alreadi',\n 'free rington wait collect simpli text password mix number verifi get usher britney fml',\n 'watch telugu movi wat abt u',\n 'see finish load loan pay',\n 'hi wk ok hol ye bit run forgot hairdress appoint four need get home n shower beforehand caus prob u ham',\n 'pleas text anymor noth els say',\n 'okay name ur price long legal wen pick u ave x am xx',\n 'still look car buy gone numberth drive test yet',\n 'per request mell mell oru minnaminungint nurungu vettam set callertun caller press number copi friend callertun',\n 'wow right mean guess gave boston men chang search locat nyc someth chang cuz signin page still say boston',\n 'umma life vava umma love lot dear',\n 'thank lot wish birthday thank make birthday truli memor',\n 'aight hit get cash',\n 'would ip address test consid comput minecraft server',\n 'know grumpi old peopl mom like better lie alway one play joke',\n 'dont worri guess busi',\n 'plural noun research',\n 'go dinner msg',\n 'ok wif co like number tri new thing scare u dun like mah co u said loud',\n 'gent tri contact last weekend draw show number prize guarante call number claim code knumber valid numberhr numberppm',\n 'wa ur openin sentenc formal anyway fine juz tt eatin much n puttin weight haha anythin special happen',\n 'enter cabin pa said happi b day boss felt special askd number lunch lunch invit apart went',\n 'winner u special select number receiv number number holiday flight inc speak live oper number claim numberp min number',\n 'goodo ye must speak friday egg potato ratio tortilla need',\n 'hmm uncl inform pay school directli pl buy food',\n 'privat number account statement number show number unredeem bonu point claim call number identifi code number expir',\n 'urgent mobil award number bonu caller prize number number number final tri contact u call landlin number boxnumberwrnumberc numberppm',\n 'new address appl pair malarki',\n 'today voda number end number select receiv number award match pleas call number quot claim code number standard rate app',\n 'go sao mu today done number',\n 'predict wat time finish buy',\n 'good stuff',\n 'know yetund sent money yet sent text bother send dont involv anyth impos anyth first place apologis',\n 'room',\n 'hey girl r u hope u r well del r bak long time c give call sum time lucyxx',\n 'k k much cost',\n 'home',\n 'dear call tmorrow pl accomod',\n 'first answer question',\n 'sunshin quiz wkli q win top soni dvd player u know countri algarv txt ansr number number number sp tyron',\n 'want number get laid tonight want real dog locat sent direct number ur mob join uk largest dog network bt txting gravel number nt ecnumbera numberp msg numberp',\n 'haf msn yiju hotmail com',\n 'call meet',\n 'check room befor activ',\n 'rcv msg chat svc free hardcor servic text go number u get noth u must age verifi yr network tri',\n 'got c lazi type forgot lect saw pouch like v nice',\n 'k text way',\n 'sir wait mail',\n 'swt thought nver get tire littl thing number lovabl person coz somtim littl thing occupi biggest part heart gud ninumb',\n 'know pl open back',\n 'ye see ya dot',\n 'what staff name take class us',\n 'freemsg repli text randi sexi femal live local luv hear u netcollex ltd numberp per msg repli stop end',\n 'ummma call check life begin qatar pl pray hard',\n 'k delet contact',\n 'sindu got job birla soft',\n 'wine flow never',\n 'yup thk cine better co need number go number plaza mah',\n 'ok ur typic repli',\n 'per request mell mell oru minnaminungint nurungu vettam set callertun caller press number copi friend callertun',\n 'everywher dirt floor window even shirt sometim open mouth come flow dream world without half chore time joy lot tv show see guess like thing must exist like rain hail mist time done becom one',\n 'aaooooright work',\n 'leav hous',\n 'hello love get interview today happi good boy think miss',\n 'custom servic annonc new year deliveri wait pleas call number arrang deliveri',\n 'winner u special select number receiv number cash number holiday flight inc speak live oper number claim number',\n 'keep safe need miss alreadi envi everyon see real life',\n 'new car hous parent new job hand',\n 'love excit day spend make happi',\n 'pl stop bootydeli number f invit friend repli ye number number see www sm ac u bootydeli stop send stop frnd number',\n 'bangbab ur order way u receiv servic msg number download ur content u goto wap bangb tv ur mobil internet servic menu',\n 'place ur point e cultur modul alreadi',\n 'urgent tri contact last weekend draw show number prize guarante call number claim code snumber valid numberhr',\n 'hi frnd best way avoid missunderstd wit belov one',\n 'great escap fanci bridg need lager see tomo',\n 'ye complet form clark also utter wast',\n 'sir need axi bank account bank address',\n 'hmmm thk sure got time hop ard ya go number free abt muz call u discuss liao',\n 'time come later',\n 'bloodi hell cant believ forgot surnam mr ill give u clue spanish begin',\n 'well gonna finish bath good fine night',\n 'let know got money carlo make call',\n 'u still go mall',\n 'turn friend stay whole show back til lt gt feel free go ahead smoke lt gt worth',\n 'text doesnt repli let know log',\n 'hi spoke maneesha v like know satisfi experi repli toll free ye',\n 'lift hope offer money need especi end month approach hurt studi anyway grnumber weekend',\n 'lol u trust',\n 'ok gentleman treat digniti respect',\n 'guy close',\n 'go noth great bye',\n 'hello handsom find job lazi work toward get back net mummi boytoy miss',\n 'haha awesom minut',\n 'pleas call custom servic repres freephon number number number numberam numberpm guarante number cash number prize',\n 'got xma radio time get',\n 'ju reach home go bath first si use net tell u finish k',\n 'uniqu enough find numberth august www areyouuniqu co uk',\n 'sorri join leagu peopl dont keep touch mean great deal friend time even great person cost great week',\n 'hi final complet cours',\n 'stop howev suggest stay someon abl give or everi stool',\n 'hope settl new school year wishin grnumber day',\n 'gud mrng dear hav nice day',\n 'u got person stori',\n 'hamster dead hey tmr meet numberpm orchard mrt',\n 'hi kate even hope see tomorrow bit bloodi babyjontet txt back u xxx',\n 'found enc lt gt',\n 'sent lt gt buck',\n 'hello darlin ive finish colleg txt u finish u love kate xxx',\n 'account refil success inr lt decim gt keralacircl prepaid account balanc rs lt decim gt transact id kr lt gt',\n 'goodmorn sleep ga',\n 'u call alter number ok',\n 'say like dat dun buy ericsson oso cannot oredi lar',\n 'enter cabin pa said happi b day boss felt special askd number lunch lunch invit apart went',\n 'aight yo dat straight dogg',\n 'pleas give us connect today lt decim gt refund bill',\n 'shoot big load get readi',\n 'bruv hope great break reward semest',\n 'home alway chat',\n 'k k good studi well',\n 'yup noe leh',\n 'sound great home',\n 'final match head toward draw predict',\n 'tire slept well past night',\n 'easi ah sen got select mean good',\n 'take exam march number',\n 'yeah think use gt atm regist sure anyway help let know sure readi',\n 'ok prob take ur time',\n 'os call ubandu run without instal hard disk use os copi import file system give repair shop',\n 'sorri call later',\n 'u say leh cours noth happen lar say v romant ju bit lor thk e nite sceneri nice leh',\n 'number new mobil number must go txt nokia number collect today number www number tc biz numberoptout number numbergbp mtmsgnumber',\n 'would realli appreci call need someon talk',\n 'u meet ur dream partner soon ur career number flyng start number find free txt horo follow ur star sign e g horo ari',\n 'hey compani elama po mudyadhu',\n 'life strict teacher bcoz teacher teach lesson amp conduct exam life first conduct exam amp teach lesson happi morn',\n 'dear good morn',\n 'get gandhipuram walk cross cut road right side lt gt street road turn first right',\n 'dear go rubber place',\n 'sorri batteri die yeah',\n 'ye tv alway avail work place',\n 'text meet someon sexi today u find date even flirt u join number numberp repli name age eg sam number number msg recd thirtyeight penc',\n 'print oh lt gt come upstair',\n 'ill littl closer like bu stop street',\n 'wil reach',\n 'new theori argument win situat lose person dont argu ur friend kick amp say alway correct',\n 'u number secret admir look number make contact u find r reveal think ur special call number',\n 'tomarrow final hear laptop case cant',\n 'pleassssssseeeee tel v avent done sportsx',\n 'okay shine meant sign sound better',\n 'although told u dat baig face watch realli like e watch u gave co fr u thanx number everyth dat u done today touch',\n 'u rememb old commerci',\n 'late said websit dont slipper',\n 'ask call ok',\n 'kalli wont bat numbernd inning',\n 'didnt work oh ok goodnight fix readi time wake dearli miss good night sleep',\n 'congratul ur award number cd voucher numbergift guarante free entri number number wkli draw txt music number tnc www ldew comnumberwinnumberppmxnumberagenumb',\n 'ranjith cal drpd deeraj deepak numbermin hold',\n 'wen ur lovabl bcum angri wid u dnt take serious coz angri childish n true way show deep affect care n luv kettoda manda nice day da',\n '',\n 'up numberday also ship compani take numberwk way usp take week get lag may bribe nipost get stuff',\n 'back lemm know readi',\n 'necessarili expect done get back though headin',\n 'mmm yummi babe nice jolt suzi',\n 'lover need',\n 'tri contact repli offer video handset number anytim network min unlimit text camcord repli call number',\n 'park next mini come today think',\n 'yup',\n 'anyway go shop co si done yet dun disturb u liao',\n 'luton number ring ur around h',\n 'hey realli horni want chat see nake text hot number text charg numberpm unsubscrib text stop number',\n 'dint come us',\n 'wana plan trip sometm',\n 'sure yet still tri get hold',\n 'ur rington servic chang number free credit go clubnumbermobil com choos content stop txt club stop number numberp wk clubnumb po boxnumb mknumber numberwt',\n 'evo download flash jealou',\n 'rington club get uk singl chart mobil week choos top qualiti rington messag free charg',\n 'come mu sort narcot situat',\n 'night end anoth day morn come special way may smile like sunni ray leav worri blue blue bay',\n 'hmv bonu special number pound genuin hmv voucher answer number easi question play send hmv number info www numberperc real com',\n 'usf guess might well take number car',\n 'object bf come',\n 'thanx',\n 'tell rob mack gf theater',\n 'awesom see bit',\n 'sent type food like',\n 'done hand celebr full swing yet',\n 'got call tool',\n 'wen u miss someon',\n 'ok ask money far',\n 'oki',\n 'yeah think usual guy still pass last night get ahold anybodi let know throw',\n 'k might come tonight class let earli',\n 'ok',\n 'hi babi im cruisin girl friend r u number give call hour home that alright fone fone love jenni xxx',\n 'life mean lot love life love peopl life world call friend call world ge',\n 'dear shall mail tonit busi street shall updat tonit thing look ok varunnathu edukkukaye raksha ollu good one real sens',\n 'hey told name gautham ah',\n 'haf u found feel stupid da v cam work',\n 'oop number got bit',\n 'much buzi',\n 'accident delet messag resend pleas',\n 'mobil custom may claim free camera phone upgrad pay go sim card loyalti call number number number offer end numberthfeb c appli',\n 'unless situat go gurl would appropri',\n 'hurt teas make cri end life die plz keep one rose grave say stupid miss u nice day bslvyl',\n 'cant pick phone right pl send messag',\n 'need coffe run tomo believ time week alreadi',\n 'awesom rememb last time got somebodi high first time diesel v',\n 'shit realli shock scari cant imagin second def night u think somewher could crash night save taxi',\n 'oh way food fridg want go meal tonight',\n 'womdarful actor',\n 'sm ac blind date numberu roddsnumb number aberdeen unit kingdom check http img sm ac w icmbnumbercktznumberrnumb number blind date send hide',\n 'yup remb think book',\n 'jo ask u wana meet',\n 'lol ye friendship hang thread caus u buy stuff',\n 'themob check newest select content game tone gossip babe sport keep mobil fit funki text wap number',\n 'garag key bookshelf',\n 'today accept day u accept brother sister lover dearnumb bestnumb closnumb lvblefrnd jstfrnd cutefrnd lifpartnr belovd swtheart bstfrnd rpli mean enemi',\n 'think ur smart win number week weekli quiz text play number cs winnersclub po box number mnumber numberuz number gbpnumber number week',\n 'say give call friend got money definit buy end week',\n 'hi way u numberday normal way real ur uniqu hope know u number rest mylif hope u find wot lost',\n 'made day great day',\n 'k k advanc happi pongal',\n 'hmmm guess go number kb n power yoga haha dunno tahan power yoga anot thk got lo oso forgot liao',\n 'realli dude friend afraid',\n 'decemb mobil numbermth entitl updat latest colour camera mobil free call mobil updat co free number',\n 'coffe cake guess',\n 'merri christma babe love ya kiss',\n 'hey dont go watch x men lunch haha',\n 'cud u tell ppl im gona b bit lnumber co number buse hav gon past co full im still waitin number number pete x',\n 'would great guild could meet bristol road somewher get touch weekend plan take flight good week',\n 'problem',\n 'call messag miss call',\n 'hi da today class',\n 'say good sign well know track record read women',\n 'cool text park',\n 'read text sent meant joke read light',\n 'k k apo k good movi',\n 'mayb could get book tomo return immedi someth',\n 'call germani number penc per minut call fix line via access number number number number number prepay direct access',\n 'chanc might evapor soon violat privaci steal phone number employ paperwork cool pleas contact report supervisor',\n 'valentin day special win number quiz take partner trip lifetim send go number numberp msg rcvd custcar number',\n 'ta daaaaa home babe still',\n 'cool come havent wine dine',\n 'sleep surf',\n 'sorri call later',\n 'u call right call hand phone',\n 'ok great thanx lot',\n 'take post come must number text happi read one wiv hello carolin end favourit bless',\n 'u hide stranger',\n 'interest like',\n 'sister clear two round birla soft yesterday',\n 'gudnit tc practic go',\n 'di yiju ju saw ur mail case huim havent sent u num di num',\n 'one small prestig problem',\n 'fanci shag interest sextextuk com txt xxuk suzi number txt cost number number per msg tnc websit x',\n 'check realli miss see jeremiah great month',\n 'nah help never iphon',\n 'car hour half go apeshit',\n 'today sorri day ever angri ever misbehav hurt plz plz slap urself bcoz ur fault basic good',\n 'yo guy ever figur much need alcohol jay tri figur much safe spend weed',\n 'lt gt ish minut number minut ago wtf',\n 'thank call forgot say happi onam sirji fine rememb met insur person meet qatar insha allah rakhesh ex tata aig join tissco tayseer',\n 'congratul ur award number cd voucher numbergift guarante free entri number number wkli draw txt music number tnc www ldew comnumberwinnumberppmxnumberagenumb',\n 'ur cash balanc current number pound maxim ur cash send cash number numberp msg cc number hg suitenumb numberland row wnumberjnumberhl',\n 'actor work work even sleep late sinc unemploy moment alway sleep late unemploy everi day saturday',\n 'hello got st andrew boy long way cold keep post',\n 'ha ha cool cool chikku chikku db',\n 'oh ok prob',\n 'check audrey statu right',\n 'busi tri finish new year look forward final meet',\n 'good afternoon sunshin dawn day refresh happi aliv breath air smile think love alway',\n 'well know z take care worri',\n 'updat xma offer latest motorola sonyericsson nokia free bluetooth doubl min number txt orang call mobileupdnumb number callnumberoptout fnumberq',\n 'discount code rpnumber stop messag repli stop www regalportfolio co uk custom servic number',\n 'wat uniform get',\n 'cool text readi',\n 'hello boytoy geeee miss alreadi woke wish bed cuddl love',\n 'spoil bed well',\n 'go bath msg next lt gt min',\n 'cant keep talk peopl sure pay agre price pl tell want realli buy much will pay',\n 'thank rington order refer tnumber charg gbp number per week unsubscrib anytim call custom servic number',\n 'say happen',\n 'could seen recognis face',\n 'well lot thing happen lindsay new year sigh bar ptbo blue heron someth go',\n 'keep payasam rinu bring',\n 'taught ranjith sir call sm like becau he verifi project prabu told today pa dont mistak',\n 'guess worri must know way bodi repair quit sure worri take slow first test guid ovul relax noth said reason worri keep followin',\n 'yeah sure give coupl minut track wallet',\n 'hey leav big deal take care',\n 'hey late ah meet number',\n 'doubl min txt number numbermonth free bluetooth orang avail soni nokia motorola phone call mobileupdnumb number callnumberoptout nnumberdx',\n 'took mr owl number lick',\n 'custom place call',\n 'mm time dont like fun',\n 'numbermth half price orang line rental latest camera phone number free phone numbermth call mobilesdirect free number updat ornumberstoptxt',\n 'yup lunch buffet u eat alreadi',\n 'huh late fr dinner',\n 'hey sat go intro pilat kickbox',\n 'morn ok',\n 'ye think offic lap room think that last day didnt shut',\n 'pick bout number numberish time go',\n 'perform award calcul everi two month current one month period',\n 'actual sleep still might u call back text grnumber rock si send u text wen wake',\n 'alway put busi put pictur ass facebook one open peopl ever met would think pictur room would hurt make feel violat',\n 'good even sir al salam wahleykkum share happi news grace god got offer tayseer tissco join hope fine inshah allah meet sometim rakhesh visitor india',\n 'hmmm k want chang field quickli da wanna get system administr network administr',\n 'free rington text first number poli text get number true tone help number number number numberst free tone numberx numberpw e nd txt stop',\n 'dear chechi talk',\n 'hair cream ship',\n 'none happen til get though',\n 'yep great loxahatche xma tree burn lt gt start hour',\n 'haha get use drive usf man know lot stoner',\n 'well slightli disastr class pm fav darl hope day ok coffe wld good stay late tomorrow time place alway',\n 'hello good week fanci drink someth later',\n 'headin toward busetop',\n 'messag text miss sender name miss number miss sent date miss miss u lot that everyth miss sent via fullonsm com',\n 'come room point iron plan weekend',\n 'co want thing',\n 'oki go yan jiu skip ard oso go cine den go mrt one blah blah blah',\n 'bring home wendi',\n 'number date servic cal l number boxnumbersknumberch',\n 'whatsup dont u want sleep',\n 'alright new goal',\n 'free entri number weekli competit text word win number number c www txttowin co uk',\n 'alright head minut text meet',\n 'send logo number ur lover number name join heart txt love namenumb namenumb mobno eg love adam eve number number yahoo poboxnumberwnumberwq txtno number ad numberp',\n 'ye last week take live call',\n 'someon contact date servic enter phone fanci find call landlin number poboxnumbernnumbertfnumberp',\n 'siva hostel aha',\n 'urgent mobil number award number prize guarante call number land line claim number valid numberhr',\n 'send ur friend receiv someth ur voic speak express number childish number naughti number sentiment number rowdi number ful attitud number romant number shi number attract number funni lt gt irrit lt gt lovabl repli',\n 'ok ok guess',\n 'aathi dear',\n 'pain urin thing els',\n 'number esplanad mind give lift co got car today',\n 'wnt buy bmw car urgent vri urgent hv shortag lt gt lac sourc arng di amt lt gt lac that prob',\n 'home watch tv lor',\n 'usual take fifteen fuck minut respond ye question',\n 'congrat nokia number video camera phone call number call cost numberppm ave call numbermin vari mobil number close number post bcmnumber ldn wcnumbernnumberxx',\n 'book ticket pongal',\n 'avail like right around hillsborough amp lt gt th',\n 'messag sent askin lt gt dollar shoul pay lt gt lt gt',\n 'ask g iouri told stori like ten time alreadi',\n 'long applebe fuck take',\n 'hi hope u get txt journey hasnt gd number min late think',\n 'like love arrang',\n 'ye realli great bhaji told kalli best cricket sachin world tough get',\n 'suppos wake gt',\n 'oic saw tot din c found group liao',\n 'sorri call later',\n 'hey hey wereth monkeespeopl say monkeyaround howdi gorgeou',\n 'sorri batteri die come get gram place',\n 'well done blimey exercis yeah kinda rememb wot hmm',\n 'wont get concentr dear know mind everyth',\n 'lol made plan new year',\n 'number min later k',\n 'hank lotsli',\n 'thank hope good day today',\n 'k k detail want transfer acc enough',\n 'ok tell stay yeah tough optimist thing improv month',\n 'loan purpos number number number homeown tenant welcom previous refus still help call free number number text back help',\n 'si si think ill go make oreo truffl',\n 'look ami ure beauti intellig woman like u lot know u like like worri',\n 'hope result consist intellig kind start ask practicum link keep ear open best ttyl',\n 'number number call cost guess isnt bad miss ya need ya want ya love ya',\n 'go thru differ feel waver decis cope individu time heal everyth believ',\n 'u go phone gonna die stay',\n 'great never better day give even reason thank god',\n 'upgrdcentr orang custom may claim free camera phone upgrad loyalti call number number number offer end numberth juli c appli opt avail',\n 'sorri call later ok bye',\n 'ok way railway',\n 'great princess love give receiv oral doggi style fave posit enjoy make love lt gt time per night',\n 'put stuff road keep get slipperi',\n 'go ride bike',\n 'yup need ju wait number e rain number stop',\n 'mani compani tell languag',\n 'okmail dear dave final notic collect number tenerif holiday number cash award call number landlin tc sae boxnumb cwnumberwx numberppm',\n 'long sinc scream princess',\n 'noth meant money enter account bank remov flat rate someon transfer lt gt account lt gt dollar got remov bank differ charg also differ sure trust numberja person send account detail co',\n 'want number get laid tonight want real dog locat sent direct number ur mob join uk largest dog network txting moan numbernyt ecnumbera numberp msg numberp',\n 'nice line said broken heart plz cum number time infront wise trust u good numbert',\n 'ok gonna head usf like fifteen minut',\n 'love aathi love u lot',\n 'tension ah machi problem',\n 'k pick anoth numberth done',\n 'guy get back g said think stay mcr',\n 'almost see u sec',\n 'yo carlo friend alreadi ask work weekend',\n 'watch tv lor',\n 'thank babi cant wait tast real thing',\n 'chang fb jaykwon thuglyf falconerf',\n 'win realli number side long time',\n 'free messag activ number free text messag repli messag word free term condit visit www number com',\n 'dear reach railway happen',\n 'depend qualiti want type sent boy fade glori number want ralph mayb number',\n 'think fix send test messag',\n 'sorri man account dri would want could trade back half could buy shit credit card',\n 'congrat number year special cinema pass number call number c suprman v matrixnumb starwarsnumb etc number free bxnumber ipnumb numberw numberpm dont miss',\n 'sorri meet call later',\n 'class lt gt reunion',\n 'free call',\n 'got meh',\n 'nope think go monday sorri repli late',\n 'told accentur confirm true',\n 'kate jackson rec center numberish right',\n 'dear reach room',\n 'fight world easi u either win lose bt fightng somenumb close u dificult u lose u lose u win u still lose',\n 'come',\n 'check nuerologist',\n 'lolnic went fish water',\n 'number congratul week competit draw u number prize claim call number bnumber cs stop sm number number numberppm',\n 'wait e car dat bore wat co wait outsid got noth number home stuff watch tv wat',\n 'mayb westshor hyde park villag place near hous',\n 'know anthoni bring money school fee pay rent stuff like that need help friend need',\n 'signific',\n 'opinion number number jada number kusruthi number lovabl number silent number spl charact number matur number stylish number simpl pl repli',\n 'number latest g still scroung ammo want give new ak tri',\n 'prabha soryda reali frm heart sori',\n 'lol ok forgiven',\n 'jst chang tat',\n 'guarante latest nokia phone numbergb ipod mpnumber player number prize txt word collect number ibhltd ldnwnumberh numberp mtmsgrcvdnumber',\n 'competit',\n 'boltblu tone numberp repli poli mono eg polynumb number cha cha slide number yeah number slow jamz number toxic number come stop number tone txt',\n 'credit top http www bubbletext com renew pin tgxxrz',\n 'way transport less problemat sat night way u want ask n join bday feel free need know definit no book fri',\n 'usual person unconsci children adult may behav abnorm call',\n 'ebay might less elsewher',\n 'shall come get pickl',\n 'gonna go get taco',\n 'rude campu',\n 'urgent mobil award number number bonu caller prize number number number numbernd attempt contact call number number number boxnumberqu',\n 'hi b ard number christma enjoy n merri x ma',\n 'today offer claim ur number worth discount voucher text ye number savamob member offer mobil cs number number number sub number unsub repli x',\n 'ye pretti ladi like singl',\n 'reciev tone within next numberhr term condit pleas see channel u teletext pg number',\n 'jay say doubl faggot',\n 'privat number account statement number show number un redeem point call number identifi code number expir number number number',\n 'today sunday sunday holiday work',\n 'gudnit tc practic go',\n 'late',\n 'call hope lnumberr malaria know miss guy miss bani big pl give love especi great day',\n 'good afternoon love goe day hope mayb got lead job think boytoy send passion kiss across sea',\n 'probabl gonna see later tonight lt',\n 'mayb fat finger press button know',\n 'ummmmmaah mani mani happi return day dear sweet heart happi birthday dear',\n 'tirupur da start offic call',\n 'www applausestor com monthlysubscript numberp msg maxnumb month csc web agenumb numberstop txt stop',\n 'famou quot develop abil listen anyth uncondit without lose temper self confid mean marri',\n 'go colleg pa els ill come self pa',\n 'number oclock mine bash flat plan',\n 'girl stay bed girl need recoveri time id rather pass fun coop bed',\n 'special',\n 'know need get hotel got invit apologis cali sweet come english bloke weddin',\n 'sorri took long omw',\n 'wait lt gt min',\n 'ok give number minut think see btw alibi cut hair whole time',\n 'imagin final get sink bath put pace mayb even eat left also imagin feel cage cock surround bath water remind alway own enjoy cuck',\n 'hurri weed defici like three day',\n 'sure get acknowledg astoundingli tactless gener faggi demand blood oath fo',\n 'ok everi night take warm bath drink cup milk see work magic still need loos weight know',\n 'look fri pan case cheap book perhap silli fri pan like book',\n 'well uv caus mutat sunscreen like essenti theseday',\n 'lunch onlin',\n 'know friend alreadi told',\n 'hi princess thank pic pretti',\n 'aiyo u alway c ex one dunno abt mei repli first time u repli fast lucki workin huh got bao ur sugardad ah gee',\n 'hi msg offic',\n 'thanx number e browni v nice',\n 'geeeee love much bare stand',\n 'gent tri contact last weekend draw show number prize guarante call number claim code knumber valid numberhr numberppm',\n 'fuck babe miss alreadi know let send money toward net need want crave',\n 'ill call u numbermrw ninish address icki american freek wont stop callin number bad jen k eh',\n 'oooh bed ridden ey think',\n 'anyway go gym whatev love smile hope ok good day babe miss much alreadi',\n 'love daddi make scream pleasur go slap ass dick',\n 'wot u wanna missi',\n 'yar lor wait number mum number finish sch lunch lor whole morn stay home clean room room quit clean hee',\n 'know lab goggl went',\n 'open door',\n 'wait call',\n 'nope wait sch number daddi',\n 'number number cash number number prize claim callnumb',\n 'tire argu week week want',\n 'wait number sch finish ard number',\n 'mobil number number claim call us back ring claim hot line number',\n 'arngd marriag u r walkin unfortuntli snake bite u bt love marriag danc frnt snake amp sayin bite bite',\n 'huh earli dinner outsid izzit',\n 'ok anyway need chang said',\n 'tri contact repli offer number min number textand new video phone call number repli free deliveri tomorrow',\n 'ex wife abl kid want kid one day',\n 'scotland hope show jjc tendenc take care live dream',\n 'tell u headach want use number hour sick time',\n 'dun thk quit yet hmmm go jazz yogasana oso go meet em lesson den',\n 'pete pleas ring meiv hardli gotani credit',\n 'ya srsli better yi tho',\n 'meet call later',\n 'ur chanc win number wkli shop spree txt shop number c www txt number shop com custcar number numberxnumberp wk',\n 'special select receiv number pound award call number line close cost numberppm number cs appli ag promo',\n 'privat number account statement number show number un redeem point call number identifi code number expir number number number',\n 'still grand prix',\n 'met stranger choos friend long world stand friendship never end let friend forev gud nitz',\n 'great',\n 'gud mrng dear nice day',\n 'import custom servic announc call freephon number number number',\n 'exhaust train morn much wine pie sleep well',\n 'go buy mum present ar',\n 'mind blastin tsunami occur rajnik stop swim indian ocean',\n 'u send home first ok lor readi yet',\n 'speak cash yet',\n 'happi come noon',\n 'meet lunch la',\n 'take care n get well soon',\n 'xclusiv clubsaisai numbermorow number number soire special zouk nichol pari free rose number ladi info number number',\n 'meant say cant wait see u get bore bridgwat banter',\n 'neva mind ok',\n 'fine imma get drink somethin want come find',\n 'number day kick euronumb u kept date latest news result daili remov send get txt stop number',\n 'valentin game send di msg ur friend number answer r someon realli love u que colour suit best rpli',\n 'mani depend',\n 'thanxnumb today cer nice number catch ave number find time often oh well take care c u soon c',\n 'call said choos futur',\n 'happi valentin day know earli hundr handsom beauti wish thought finish aunti uncl numberst',\n 'like v shock leh co tell shuhui like tell leona also like dat almost know liao got ask abt ur reaction lor',\n 'famili happi',\n 'come n pick come immedi aft ur lesson',\n 'let snow let snow kind weather bring ppl togeth friendship grow',\n 'dear got lt gt dollar hi hi',\n 'good word word may leav u dismay mani time',\n 'make sure alex know birthday fifteen minut far concern',\n 'sorri got thing may pub later',\n 'nah straight bring bud drink someth actual littl use straight cash',\n 'haha good hear offici paid market numberth',\n 'mani lick take get center tootsi pop',\n 'yup thk r e teacher said make face look longer darren ask number cut short',\n 'new textbuddi chat number horni guy ur area number numberp free number receiv search postcod gaytextbuddi com txt one name number',\n 'today vodafon number end number select receiv number award number match call number receiv number award',\n 'pleas dont say like hi hi hi',\n 'thank u',\n 'oh forward messag thought send',\n 'got seventeen pound seven hundr ml hope ok',\n 'dear voucher holder number claim week offer pc go http www e tlp co uk expressoff ts cs appli number stop text txt stop number',\n 'n funni',\n 'sweetheart hope kind day one load reason smile biola',\n 'login dat time dad fetch home',\n 'shower babi',\n 'askd u question hour answer',\n 'well imma definit need restock thanksgiv let know',\n 'said kiss kiss sound effect gorgeou man kind person need smile brighten day',\n 'probabl gonna swing wee bit',\n 'ya nice readi thursday',\n 'allo brave buse taken train triumph mean b ham jolli good rest week',\n 'watch cartoon listen music amp eve go templ amp church u',\n 'mind ask happen dont say uncomfort',\n 'privat number account statement show number un redeem point call number identifi code number expir number number number',\n 'prob send email',\n 'number number cash number number prize claim callnumb c rstm swnumber numberss numberppm',\n 'that cool sometim slow gentl sonetim rough hard',\n 'gonna say sorri would normal start panic time sorri see tuesday',\n 'wait know wesley town bet hella drug',\n 'fine miss much',\n 'u got person stori',\n 'tell drug dealer get impati',\n 'sun cant come earth send luv ray cloud cant come river send luv rain cant come meet u send care msg u gud evng',\n 'place man',\n 'doesnt make sens take unless free need know wikipedia com',\n 'number number premium phone servic call number',\n 'sea lay rock rock envelop envelop paper paper number word',\n 'mum repent',\n 'sorri go home first daddi come fetch later',\n 'leav de start prepar next',\n 'ye babi studi posit kama sutra',\n 'en chikku nang bakra msg kalstiya tea coffe',\n 'carlo minut still need buy',\n 'pay lt decim gt lakh',\n 'good even ttyl',\n 'u receiv msg',\n 'ho ho big belli laugh see ya tomo',\n 'sm ac sunnumb post hello seem cool',\n 'get ur numberst rington free repli msg tone grnumber top number tone phone everi week number number per wk number opt send stop number number',\n 'ditto worri say anyth anymor like said last night whatev want peac',\n 'got lt gt way could pick',\n 'dont knw pa drink milk',\n 'mayb say hi find got card great escap wetherspoon',\n 'piggi r u awak bet u still sleep go number lunch',\n 'caus freaki lol',\n 'miss call caus yell scrappi miss u wait u come home lone today',\n 'hex place talk explain',\n 'log number wat sdrybnumberi',\n 'xy go number e lunch',\n 'hi sue number year old work lapdanc love sex text live bedroom text sue number textoper gnumber numberda numberppmsg number',\n 'want ask wait number finish lect co lect finish hour anyway',\n 'finish work yet',\n 'everi king cri babi everi great build map imprtant u r today u wil reach tomorw gud ninumb',\n 'dear cherthala case u r come cochin pl call bfore u start shall also reach accordingli tell day u r come tmorow engag an holiday',\n 'thank love torch bold',\n 'forward number pleas call number immedi urgent messag wait',\n 'farm open',\n 'sorri troubl u buy numberd dad number number number number big number small sat n sun thanx',\n 'sister law hope great month say hey abiola',\n 'purchas stuff today mail po box number',\n 'ah poop look like ill prob send laptop get fix cuz gpu problem',\n 'good good job like entrepreneur',\n 'aight close still around alex place',\n 'meet corpor st outsid gap see mind work',\n 'mum ask buy food home',\n 'k u also dont msg repli msg',\n 'much r will pay',\n 'sorri call later',\n 'import prevent dehydr give enough fluid',\n 'that bit weird even suppos happen good idea sure pub',\n 'true dear sat pray even felt sm time',\n 'think get away trek long famili town sorri',\n 'wanna gym harri',\n 'quit late lar ard number anyway wun b drivin',\n 'review keep fantast nokia n gage game deck club nokia go number www cnupdat com newslett unsubscrib alert repli word',\n 'numbermth half price orang line rental latest camera phone number free phone numbermth call mobilesdirect free number updat ornumberstoptxt cs',\n 'height confid aeronaut professor wer calld amp wer askd number sit aeroplan aftr sat wer told dat plane ws made student dey hurri plane bt number didnt move said made student',\n 'seem like weird time night g want come smoke day shitstorm attribut alway come make everyon smoke',\n 'number numberam numberpm cost numberp',\n 'save stress person dorm account send account detail money sent',\n 'also know lunch menu da know',\n 'stuff sell tell',\n 'number urgent numbernd attempt contact u u number call number bnumber number csbcmnumberwcnumbernnumberxx callcost numberppm mobilesvari max number number',\n 'book lesson msg call work sth go get spec membership pxnumber',\n 'guarante number cash number prize claim yr prize call custom servic repres number numberam numberpm',\n 'macha dont feel upset assum mindset believ one even wonder plan us let life begin call anytim',\n 'oh send address',\n 'fine anytim best',\n 'wondar full flim',\n 'ya even cooki jelli',\n 'world run still mayb feel admit mad correct let call life keep run world may u r also run let run',\n 'got look scrumptiou daddi want eat night long',\n 'co lar ba dao ok number pm lor u never ask go ah said u would ask fri said u ask today',\n 'alright omw gotta chang order halfnumberth',\n 'exactli anyway far jide studi visit',\n 'dunno u ask',\n 'email alertfrom jeri stewarts numberkbsubject low cost prescripiton drvgsto listen email call number',\n 'spring come earli yay',\n 'lol feel bad use money take steak dinner',\n 'even u dont get troubl convinc tel twice tel neglect msg dont c read dont repli',\n 'leav qatar tonit search opportun went fast pl add ur prayer dear rakhesh',\n 'one talk',\n 'thank look realli appreci',\n 'hi custom loyalti offer new nokianumb mobil number txtauction txt word start number get numbert ctxt tc numberp mtmsg',\n 'wish',\n 'haha mayb u rite u know well da feel like someon gd lor u faster go find one gal group attach liao',\n 'ye glad made',\n 'well littl time thing good time ahead',\n 'got room soon put clock back til number shout everyon get realis number wahay anoth hour bed',\n 'ok may free gym',\n 'men like shorter ladi gaze eye',\n 'dunno ju say go lido time number',\n 'promis take good care princess run pleas send pic get chanc ttyl',\n 'u subscrib best mobil content servic uk number per number day send stop number helplin number',\n 'reason spoken year anyway great week best exam',\n 'monday next week give full gist',\n 'realiz number year thousand old ladi run around tattoo',\n 'import custom servic announc premier',\n 'dont gimm lip caveboy',\n 'get librari',\n 'reali sorri recognis number confus r u pleas',\n 'didnt holla',\n 'cant think anyon spare room top head',\n 'faith make thing possibl hope make thing work love make thing beauti may three christma merri christma',\n 'u made appoint',\n 'call carlo phone vibrat act might hear text',\n 'romant pari number night number flight number book number next year call numbert cs appli',\n 'grandma oh dear u still ill felt shit morn think hungov anoth night leav sat',\n 'urgent ur number guarante award still unclaim call number closingdatenumb number number claimcod mnumbermnumb number numberpmmorefrommobilenumberbremov mobypoboxnumberlsnumberyf',\n 'noth ju tot u would ask co u ba gua went mt faber yest yest ju went alreadi mah today go ju call lor',\n 'wish famili merri x ma happi new year advanc',\n 'ur award citi break could win number summer shop spree everi wk txt store number skilgm tscsnumberwinawk agenumb number numberperwksub',\n 'nt goin got somethin unless meetin number dinner lor haha wonder go ti time',\n 'sorri call later',\n 'cant pick phone right pl send messag',\n 'lol know dramat school alreadi close tomorrow appar drive inch snow suppos get',\n 'get anywher damn job hunt',\n 'lol u drunkard hair moment yeah still number tonight wat plan',\n 'idc get weasel way shit twice row',\n 'wil lt gt minut got space',\n 'sleep surf',\n 'thank pick trash',\n 'go tell friend sure want live smoke much spend hour beg come smoke',\n 'hi kate love see tonight ill phone tomorrow got sing guy gave card xxx',\n 'happi new year dear brother realli miss got number decid send text wish happi abiola',\n 'mean get door',\n 'opinion number number jada number kusruthi number lovabl number silent number spl charact number matur number stylish number simpl pl repli',\n 'hmmm thought said number hour slave number late punish',\n 'beerag',\n 'import custom servic announc premier call freephon number number number',\n 'dont think turn like randomlli within numbermin open',\n 'suppos make still town though',\n 'time fix spell sometim get complet diff word go figur',\n 'ever thought live good life perfect partner txt back name age join mobil commun numberp sm',\n 'number free top polyphon tone call number nation rate get toppoli tune sent everi week text subpoli number number per pole unsub number',\n 'gud mrng dear hav nice day',\n 'hope enjoy game yesterday sorri touch pl know fondli bein thot great week abiola',\n 'e best number ur drive tmr',\n 'u dogbreath sound like jan c al',\n 'omg want scream weigh lost weight woohoo',\n 'gener one uncount noun u dictionari piec research',\n 'realli get hang around',\n 'orang custom may claim free camera phone upgrad loyalti call number number number offer end numberthmarch c appli opt availa',\n 'petey boy wherear friendsar thekingshead come canlov nic',\n 'ok msg u bnumber leav hous',\n 'gimm lt gt minut ago',\n 'last chanc claim ur number worth discount voucher today text shop number savamob offer mobil cs savamob poboxnumb mnumberuz number number sub number',\n 'appt lt time gt fault u listen told u twice',\n 'free numberst week nonumb nokia tone number ur mobil everi week txt nokia number get txting tell ur mate www getz co uk pobox number wnumberwq number normnumberp tone',\n 'guarante number award even number cashto claim ur award call free number number number stop getstop number php rgnumber numberjx',\n 'k number',\n 'dled numberd imp',\n 'sure make sure know smokin yet',\n 'boooo alway work quit',\n 'take half day leav bec well',\n 'ugh wanna get bed warm',\n 'nervou lt gt',\n 'ring come guy costum gift futur yowif hint hint',\n 'congratul ur award either number cd gift voucher free entri number number weekli draw txt music number tnc www ldew comnumberwinnumberppmxnumberagenumb',\n 'borrow ur bag ok',\n 'u outbid simonwatsonnumb shinco dvd plyr number bid visit sm ac smsreward number end bid notif repli end',\n 'boytoy miss happen',\n 'lot use one babe model help youi bring match',\n 'also bring galileo dobbi',\n 'respond',\n 'boo babe u enjoyin yourjob u seem number b gettin well hunni hope ure ok take care llspeak numberu soonlot lovem xxxx',\n 'good afternoon starshin boytoy crave yet ach fuck sip cappuccino miss babe teas kiss',\n 'road cant txt',\n 'smsservic yourinclus text credit pl goto www comuk net login numberqxjnumb unsubscrib stop extra charg help number comuk number cmnumber numbera',\n 'numberp number alfi moon children need song ur mob tell ur mnumber txt tone chariti number nokia poli chariti poli zed number profit number chariti',\n 'good even ttyl',\n 'hmm bit piec lol sigh',\n 'hahaha use brain dear',\n 'hey got mail',\n 'sorri light turn green meant anoth friend want lt gt worth may around',\n 'thank yesterday sir wonder hope enjoy burial mojibiola',\n 'u secret admir reveal think u r special call number opt repli reveal stop number number per msg recd cust care number',\n 'hi mate rv u hav nice hol messag number say hello coz sent u number age start drive stay road rvx',\n 'dear voucher holder claim week offer pc pleas go http www e tlp co uk expressoff ts cs appli stop text txt stop number',\n 'thank much skype wit kz sura didnt get pleasur compani hope good given ultimatum oh countin aburo enjoy messag sent day ago',\n 'sure result offer',\n 'good morn dear great amp success day',\n 'want number anytim network min number text new video phone five pound per week call number repli deliveri tomorrow',\n 'sir late pay rent past month pay lt gt charg felt would inconsider nag someth give great cost didnt speak howev recess wont abl pay charg month henc askin well ahead month end pleas help thank',\n 'tri contact offer new video phone number anytim network min half price rental camcord call number repli deliveri wed',\n 'last chanc number claim ur number worth discount voucher text ye number savamob member offer mobil cs number number number sub number remov txt x stop',\n 'luv u soo much u understand special u r number ring u numbermorrow luv u xxx',\n 'pl send comprehens mail pay much',\n 'prashanthettan mother pass away last night pray famili',\n 'urgent call number landlin complimentari number ibiza holiday number number cash await collect sae cs po box number sknumber numberwp number ppm number',\n 'k k go',\n 'meanwhil shit suit xavier decid give us lt gt second warn samantha come play jay guitar impress shit also think doug realiz live anymor',\n 'stomach thru much trauma swear eat better lose weight',\n 'offic what matter msg call break',\n 'yeah bare enough room two us x mani fuck shoe sorri man see later',\n 'today offer claim ur number worth discount voucher text ye number savamob member offer mobil cs number number number sub number unsub repli x',\n 'u reach orchard alreadi u wan number go buy ticket first',\n 'real babi want bring inner tigress',\n 'da run activ full version da',\n 'ah poor babi hope urfeel bettersn luv probthat overdos work hey go care spk number u sn lot lovejen xxx',\n 'stop stori told return say order',\n 'talk sexi make new friend fall love world discreet text date servic text vip number see could meet',\n 'go take babe',\n 'hai ana tomarrow come morn lt decim gt ill sathi go rto offic repli came home',\n 'spoon okay',\n 'say somebodi name tampa',\n 'work go min',\n 'brother geniu',\n 'sorri guess whenev get hold connect mayb hour two text',\n 'u find time bu coz need sort stuff',\n 'dude ive see lotta corvett late',\n 'congratul ur award either yr suppli cd virgin record mysteri gift guarante call number ts cs www smsco net number numberpm approx numbermin',\n 'consid wall bunker shit import never play peac guess place high enough matter',\n 'privat number account statement number xxxxxx show number un redeem point call number identifi code number expir number number number',\n 'hello need posh bird chap user trial prod champney put need address dob asap ta r',\n 'u want xma number free text messag new video phone half price line rental call free number number find',\n 'well offici philosoph hole u wanna call home readi save',\n 'go good problem still need littl experi understand american custom voic',\n 'text drop x',\n 'ugh long day exhaust want cuddl take nap',\n 'talk atleast day otherwis miss best friend world shakespear shesil lt gt',\n 'shop till u drop either numberk numberk number cash number travel voucher call number ntt po box crnumberbt fixedlin cost numberppm mobil vari',\n 'castor need see someth',\n 'sunshin quiz wkli q win top soni dvd player u know countri liverpool play mid week txt ansr number number number sp tyron',\n 'u secret admir look number make contact u find r reveal think ur special call number',\n 'u secret admir look number make contact u find r reveal think ur special call number stopsm number',\n 'remind download content alreadi paid goto http doit mymobi tv collect content',\n 'see knew give break time woul lead alway want miss curfew gonna gibe til one midnight movi gonna get til number need come home need getsleep anyth need b studdi ear train',\n 'love give massag use lot babi oil fave posit',\n 'dude go sup',\n 'yoyyooo u know chang permiss drive mac usb flash drive',\n 'gibb unsold mike hussey',\n 'like talk pa abl dont know',\n 'dun cut short leh u dun like ah fail quit sad',\n 'unbeliev faglord',\n 'wife knew time murder exactli',\n 'ask princess',\n 'great princess think',\n 'nutter cutter ctter cttergg cttargg ctargg ctagg ie',\n 'ok noe u busi realli bore msg u oso dunno wat colour choos number one',\n 'g class earli tomorrow thu tri smoke lt gt',\n 'superb thought grate u dont everyth u want mean u still opportun happier tomorrow u today',\n 'hope good week check',\n 'use hope agent drop sinc book thing year whole boston nyc experi',\n 'thursday night yeah sure thing work',\n 'free rington wait collect simpli text password mix number verifi get usher britney fml',\n 'probabl money worri thing come due sever outstand invoic work two three month ago',\n 'possibl teach',\n 'wonder phone batteri went dead tell love babe',\n 'love smell bu tobacco',\n 'get worri derek taylor alreadi assum worst',\n 'hey charl sorri late repli',\n 'lastest stereophon marley dizze racal libertin stroke win nookii game flirt click themob wap bookmark text wap number',\n 'give plu said grinul greet whenev speak',\n 'white fudg oreo store',\n 'januari male sale hot gay chat cheaper call number nation rate number numberp min cheap number numberp min peak stop text call number numberp min',\n 'love come took long leav zaher got word ym happi see sad left miss',\n 'sorri hurt',\n 'feel nauseou piss eat sweet week caus today plan pig diet week hungri',\n 'ok lor earli still project meet',\n 'call da wait call',\n 'could ask carlo could get anybodi els chip',\n 'actual send remind today wonder weekend',\n 'peopl see msg think iam addict msging wrong bcoz know iam addict sweet friend bslvyl',\n 'hey gave photo regist drive ah tmr wanna meet yck',\n 'dont talk ever ok word',\n 'u wana see',\n 'way school pl send ashley number',\n 'shall fine avalarr hollalat',\n 'went attend anoth two round today still reach home',\n 'actual delet old websit blog magicalsong blogspot com',\n 'k wait chikku il send aftr lt gt min',\n 'diet ate number mani slice pizza yesterday ugh alway diet',\n 'k give kvb acc detail',\n 'oh come ah',\n 'money r lucki winner number claim prize text money number number numbermillion give away pptnumberxnumb normal text rate boxnumb wnumbertnumberji',\n 'realli sorri b abl number friday hope u find altern hope yr term go ok',\n 'congratul ore mo owo wa enjoy wish mani happi moment fro wherev go',\n 'samu shoulder yet',\n 'time think need know near campu',\n 'dear matthew pleas call number landlin complimentari number lux tenerif holiday number cash await collect ppmnumber sae cs boxnumb sknumberxh',\n 'dun wear jean lor',\n 'sinc side fever vomitin',\n 'k k colleg',\n 'urgent call number landlin complimentari number tenerif holiday number number cash await collect sae cs box number hpnumber numberyf numberppm number',\n 'better made friday stuf like pig yesterday feel bleh least writh pain kind bleh',\n 'sell ton coin sell coin someon thru paypal voila money back life pocket',\n 'theyr lot place hospit medic place safe',\n 'get touch folk wait compani txt back name age opt enjoy commun numberp sm',\n 'also sorta blown coupl time recent id rather text blue look weed',\n 'sent score sopha secondari applic school think think appli research cost also contact joke ogunrind school one less expens one',\n 'cant wait see photo use',\n 'ur cash balanc current number pound maxim ur cash send go number numberp msg cc number po box number number tcr wnumber',\n 'hey book kb sat alreadi lesson go ah keep sat night free need meet confirm lodg',\n 'chk ur belovd ms dict',\n 'time want come',\n 'awesom lemm know whenev around',\n 'shb b ok lor thanx',\n 'beauti truth graviti read care heart feel light someon feel heavi someon leav good night',\n 'also rememb get dobbi bowl car',\n 'filthi stori girl wait',\n 'sorri c ur msg yar lor poor thing number one night tmr u brand new room number sleep',\n 'love decis feel could decid love life would much simpler less magic',\n 'welp appar retir',\n 'sort code acc bank natwest repli confirm sent right person',\n '',\n 'u sure u take sick time',\n 'urgent tri contact u today draw show number prize guarante call number land line claim mnumber validnumberhr',\n 'watch cartoon listen music amp eve go templ amp church u',\n 'yo chad gymnast class wanna take site say christian class full',\n 'much buzi',\n 'better still catch let ask sell lt gt',\n 'sure night menu know noon menu',\n 'u want come back beauti necklac token heart that give wife like see one give dont call wait till come',\n 'will go aptitud class',\n 'wont b number number tri number sort hous ok',\n 'yar lor wan number go c hors race today mah eat earlier lor ate chicken rice u',\n 'haha awesom omw back',\n 'yup thk e shop close lor',\n 'account number',\n 'eh u send wrongli lar',\n 'hey ad crap nite borin without ya number boggi u bore biatch thanx u wait til nxt time il ave ya',\n 'ok shall talk',\n 'dont hesit know second time weak like keep notebook eat day anyth chang day sure noth',\n 'hey pay salari de lt gt',\n 'anoth month need chocol weed alcohol',\n 'start search get job day great potenti talent',\n 'reckon need town eightish walk carpark',\n 'congrat number mobil numberg videophon r call number videochat wid mate play java game dload polyph music nolin rentl',\n 'look fuckin time fuck think',\n 'yo guess drop',\n 'carlo say mu lt gt minut',\n 'offic call lt gt min',\n 'geeee miss alreadi know think fuck wait till next year togeth love kiss',\n 'yun ah ubi one say wan call tomorrow call number look iren ere got busnumb number number number number number ubi cre ubi tech park numberph numberst numberwkg day n',\n 'ugh gotta drive back sd la butt sore',\n 'numberth juli',\n 'hi im relax time ever get numberam everi day parti good night get home tomorrow numberish',\n 'wan come come lor din c stripe skirt',\n 'xma stori peac xma msg love xma miracl jesu hav bless month ahead amp wish u merri xma',\n 'number',\n 'chang e one next escal',\n 'yetund class run water make ok pl',\n 'lot happen feel quiet beth aunt charli work lot helen mo',\n 'wait number bu stop aft ur lect lar dun c go get car come back n pick',\n 'aight thank comin',\n ...]"
     },
     "execution_count": 12,
     "metadata": {},
     "output_type": "execute_result"
    }
   ],
   "source": [
    "corpus"
   ],
   "metadata": {
    "collapsed": false,
    "ExecuteTime": {
     "end_time": "2023-12-18T03:47:08.817621700Z",
     "start_time": "2023-12-18T03:47:08.757384800Z"
    }
   },
   "id": "a42a7939075911d0"
  },
  {
   "cell_type": "code",
   "execution_count": 13,
   "outputs": [],
   "source": [
    "from sklearn.feature_extraction.text import TfidfVectorizer\n",
    "tv =TfidfVectorizer()\n",
    "X = tv.fit_transform(corpus).toarray()"
   ],
   "metadata": {
    "collapsed": false,
    "ExecuteTime": {
     "end_time": "2023-12-18T03:47:09.368348Z",
     "start_time": "2023-12-18T03:47:08.782602400Z"
    }
   },
   "id": "85236cb8215d4fdc"
  },
  {
   "cell_type": "code",
   "execution_count": 14,
   "outputs": [],
   "source": [
    "y = data[\"v1\"].values"
   ],
   "metadata": {
    "collapsed": false,
    "ExecuteTime": {
     "end_time": "2023-12-18T03:47:09.383343600Z",
     "start_time": "2023-12-18T03:47:09.370339400Z"
    }
   },
   "id": "d0385f238aafc6f2"
  },
  {
   "cell_type": "markdown",
   "source": [
    "**Preparing the data for training and testing the model**"
   ],
   "metadata": {
    "collapsed": false
   },
   "id": "d8b8d76d19260149"
  },
  {
   "cell_type": "code",
   "execution_count": 15,
   "outputs": [],
   "source": [
    "from sklearn.model_selection import train_test_split\n",
    "X_train,X_test,y_train,y_test = train_test_split(X,y, test_size=0.25,random_state=0)"
   ],
   "metadata": {
    "collapsed": false,
    "ExecuteTime": {
     "end_time": "2023-12-18T03:47:09.828221700Z",
     "start_time": "2023-12-18T03:47:09.380350700Z"
    }
   },
   "id": "d3aacf0a8513b6b5"
  },
  {
   "cell_type": "code",
   "execution_count": 16,
   "outputs": [],
   "source": [
    "from xgboost import XGBRFClassifier\n",
    "classifier = XGBRFClassifier()\n",
    "classifier = classifier.fit(X_train,y_train)"
   ],
   "metadata": {
    "collapsed": false,
    "ExecuteTime": {
     "end_time": "2023-12-18T03:47:24.339864Z",
     "start_time": "2023-12-18T03:47:09.821457Z"
    }
   },
   "id": "be14722d46787f35"
  },
  {
   "cell_type": "code",
   "execution_count": 17,
   "outputs": [],
   "source": [
    "y_pred = classifier.predict(X_test)"
   ],
   "metadata": {
    "collapsed": false,
    "ExecuteTime": {
     "end_time": "2023-12-18T03:47:24.495377400Z",
     "start_time": "2023-12-18T03:47:24.334866900Z"
    }
   },
   "id": "7965fa59c2740cb8"
  },
  {
   "cell_type": "code",
   "execution_count": 20,
   "outputs": [],
   "source": [
    "from sklearn.metrics import confusion_matrix,ConfusionMatrixDisplay\n",
    "cm = confusion_matrix(y_true=y_test,y_pred=y_pred)"
   ],
   "metadata": {
    "collapsed": false,
    "ExecuteTime": {
     "end_time": "2023-12-18T03:51:33.069459600Z",
     "start_time": "2023-12-18T03:51:32.974440500Z"
    }
   },
   "id": "1232a3a00a603198"
  },
  {
   "cell_type": "markdown",
   "source": [
    "**Model Evaluation**"
   ],
   "metadata": {
    "collapsed": false
   },
   "id": "c70bf480c88deb63"
  },
  {
   "cell_type": "code",
   "execution_count": 24,
   "outputs": [
    {
     "data": {
      "text/plain": "<Figure size 640x480 with 2 Axes>",
      "image/png": "[encoded data removed]"
     },
     "metadata": {},
     "output_type": "display_data"
    }
   ],
   "source": [
    "cm = confusion_matrix(y_test, y_pred, labels=classifier.classes_)\n",
    "disp = ConfusionMatrixDisplay(confusion_matrix=cm,display_labels=classifier.classes_)\n",
    "disp.plot()\n",
    "plt.show()"
   ],
   "metadata": {
    "collapsed": false,
    "ExecuteTime": {
     "end_time": "2023-12-18T03:54:27.097306700Z",
     "start_time": "2023-12-18T03:54:26.871858600Z"
    }
   },
   "id": "72061ca09b53a5fd"
  },
  {
   "cell_type": "code",
   "execution_count": null,
   "outputs": [],
   "source": [],
   "metadata": {
    "collapsed": false
   },
   "id": "52cab1b10fc3c333"
  }
 ],
 "metadata": {
  "kernelspec": {
   "display_name": "Python 3",
   "language": "python",
   "name": "python3"
  },
  "language_info": {
   "codemirror_mode": {
    "name": "ipython",
    "version": 2
   },
   "file_extension": ".py",
   "mimetype": "text/x-python",
   "name": "python",
   "nbconvert_exporter": "python",
   "pygments_lexer": "ipython2",
   "version": "2.7.6"
  }
 },
 "nbformat": 4,
 "nbformat_minor": 5
}
